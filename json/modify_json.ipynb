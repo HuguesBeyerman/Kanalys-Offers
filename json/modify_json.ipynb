{
 "cells": [
  {
   "cell_type": "code",
   "execution_count": 13,
   "id": "404409f5-f90c-4351-9dec-026b94bc4ac1",
   "metadata": {},
   "outputs": [],
   "source": [
    "import json\n",
    "with open(\"buildings.json\", 'r') as file:\n",
    "    build_table = json.load(file)\n"
   ]
  },
  {
   "cell_type": "code",
   "execution_count": 14,
   "id": "13dce92c-b996-468f-bdeb-71685d2cfbd6",
   "metadata": {},
   "outputs": [],
   "source": [
    "build_table['5'] = {'street': \"Place Jourdan\",\n",
    "                    'number': 7,\n",
    "                    'postal_code': '1050',\n",
    "                    'city': \"Ixelles\",\n",
    "                    'country': \"Belgium\",\n",
    "                    'manager': \"2\"}\n",
    "\n",
    "with open('buildings.json', 'w') as file:\n",
    "        json.dump(build_table, file, indent=4)"
   ]
  },
  {
   "cell_type": "code",
   "execution_count": null,
   "id": "99f9bedf-b9e5-414c-8f53-6df68eeeb2dd",
   "metadata": {},
   "outputs": [],
   "source": []
  }
 ],
 "metadata": {
  "kernelspec": {
   "display_name": "Python 3 (ipykernel)",
   "language": "python",
   "name": "python3"
  },
  "language_info": {
   "codemirror_mode": {
    "name": "ipython",
    "version": 3
   },
   "file_extension": ".py",
   "mimetype": "text/x-python",
   "name": "python",
   "nbconvert_exporter": "python",
   "pygments_lexer": "ipython3",
   "version": "3.12.2"
  }
 },
 "nbformat": 4,
 "nbformat_minor": 5
}
